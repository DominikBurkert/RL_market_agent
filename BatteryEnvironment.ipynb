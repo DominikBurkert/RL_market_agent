{
  "nbformat": 4,
  "nbformat_minor": 0,
  "metadata": {
    "colab": {
      "provenance": [],
      "authorship_tag": "ABX9TyPwo0N5UiFijcLRtBkua+cG",
      "include_colab_link": true
    },
    "kernelspec": {
      "name": "python3",
      "display_name": "Python 3"
    },
    "language_info": {
      "name": "python"
    }
  },
  "cells": [
    {
      "cell_type": "markdown",
      "metadata": {
        "id": "view-in-github",
        "colab_type": "text"
      },
      "source": [
        "<a href=\"https://colab.research.google.com/github/DominikBurkert/RL_market_agent/blob/main/BatteryEnvironment.ipynb\" target=\"_parent\"><img src=\"https://colab.research.google.com/assets/colab-badge.svg\" alt=\"Open In Colab\"/></a>"
      ]
    },
    {
      "cell_type": "code",
      "execution_count": 9,
      "metadata": {
        "id": "vM3jeQ9XOPbh"
      },
      "outputs": [],
      "source": [
        "#!pip install \"stable-baselines3[extra]>=2.0.0a4\""
      ]
    },
    {
      "cell_type": "code",
      "source": [
        "pip show stable-baselines3"
      ],
      "metadata": {
        "colab": {
          "base_uri": "https://localhost:8080/"
        },
        "id": "ZhxzLMOcOQqJ",
        "outputId": "089a9bcc-e834-4239-af37-0a6215253ce8"
      },
      "execution_count": 5,
      "outputs": [
        {
          "output_type": "stream",
          "name": "stdout",
          "text": [
            "Name: stable-baselines3\n",
            "Version: 2.0.0a10\n",
            "Summary: Pytorch version of Stable Baselines, implementations of reinforcement learning algorithms.\n",
            "Home-page: https://github.com/DLR-RM/stable-baselines3\n",
            "Author: Antonin Raffin\n",
            "Author-email: antonin.raffin@dlr.de\n",
            "License: MIT\n",
            "Location: /usr/local/lib/python3.10/dist-packages\n",
            "Requires: cloudpickle, gymnasium, matplotlib, numpy, pandas, torch\n",
            "Required-by: \n"
          ]
        }
      ]
    },
    {
      "cell_type": "code",
      "source": [
        "from stable_baselines3 import PPO"
      ],
      "metadata": {
        "id": "l2Rfu63bOR8h"
      },
      "execution_count": 10,
      "outputs": []
    },
    {
      "cell_type": "code",
      "source": [
        "pip show gym"
      ],
      "metadata": {
        "colab": {
          "base_uri": "https://localhost:8080/"
        },
        "id": "pB2lX0JHPdQu",
        "outputId": "ac110d4d-a8cf-4cf4-d641-274738b581df"
      },
      "execution_count": 8,
      "outputs": [
        {
          "output_type": "stream",
          "name": "stderr",
          "text": [
            "/usr/local/lib/python3.10/dist-packages/ipykernel/ipkernel.py:283: DeprecationWarning: `should_run_async` will not call `transform_cell` automatically in the future. Please pass the result to `transformed_cell` argument and any exception that happen during thetransform in `preprocessing_exc_tuple` in IPython 7.17 and above.\n",
            "  and should_run_async(code)\n"
          ]
        },
        {
          "output_type": "stream",
          "name": "stdout",
          "text": [
            "Name: gym\n",
            "Version: 0.25.2\n",
            "Summary: Gym: A universal API for reinforcement learning environments\n",
            "Home-page: https://www.gymlibrary.ml/\n",
            "Author: Gym Community\n",
            "Author-email: jkterry@umd.edu\n",
            "License: MIT\n",
            "Location: /usr/local/lib/python3.10/dist-packages\n",
            "Requires: cloudpickle, gym-notices, numpy\n",
            "Required-by: dopamine-rl\n"
          ]
        }
      ]
    },
    {
      "cell_type": "code",
      "source": [
        "import gym\n",
        "from gym import Env\n",
        "from gym.spaces import Box\n",
        "import numpy as np\n",
        "import random\n",
        "import pandas as pd\n",
        "import datetime\n",
        "from datetime import timedelta"
      ],
      "metadata": {
        "id": "YHxw4gukOxJy"
      },
      "execution_count": 7,
      "outputs": []
    },
    {
      "cell_type": "markdown",
      "source": [
        "### Environment Battery"
      ],
      "metadata": {
        "id": "ezU4txNiPm5T"
      }
    },
    {
      "cell_type": "code",
      "source": [
        "class BatteryEnvironment(gym.Env):\n",
        "    #params: power for discharge/charge of batery(in kW), capacity for batery in kWh, price for calculate profit, residualload for agent to learn\n",
        "    def __init__(self, time_list_hours=[], prices=[], residual_load=[], capacity=200, power= 10): #power in kW, capacity in kWh\n",
        "        \"\"\"\n",
        "            The customized initialisation of the environment.\n",
        "\n",
        "            Returns:\n",
        "\n",
        "        \"\"\"\n",
        "        #get predefined stuff\n",
        "        super(BatteryEnvironment, self).__init__()\n",
        "        \n",
        "        #define variabels of environment from input data\n",
        "        self.residual_load = residual_load\n",
        "        self.prices = prices\n",
        "        \n",
        "        self.Start = min(time_list_hours)\n",
        "        self.End = max(time_list_hours)\n",
        "        self.eps_length= 24\n",
        "\n",
        "        #set initial date\n",
        "        self.date=self.Start\n",
        "\n",
        "        # reset profit to 0\n",
        "        self.profit = 0\n",
        "\n",
        "        #define variables of batery\n",
        "        self.capacity = capacity\n",
        "        #self.power = power\n",
        "        self.soc = 0 #soc = state of charge (soc=0 means: batery is empty in the beginning)\n",
        "        \n",
        "\n",
        "\n",
        "        #define possible OBSERVATIONS:\n",
        "        #each hour of the day is one state with several observations\n",
        "        # observation[0] = residual load prediction for the next 24 hours (in kWh)\n",
        "        # observation[1] = soc of the batery (in kWh)\n",
        "        #observation[2] = \n",
        "        # TODO normalize of residual load and soc (important for training)\n",
        "        self.observation_space = Box(low=np.array([min(residual_load),0]), high=np.array([max(residual_load),capacity]),\n",
        "                                     shape=(2,), dtype=np.float32)\n",
        "        #self.observation_space = Box(low=np.array([-6000,0]), high=np.array([70000,capacity]),\n",
        "        #                             shape=(2,), dtype=np.float32)\n",
        "        \n",
        "        \n",
        "        #define possible ACTIONS:\n",
        "        #the agent can decide how much energy he wants to charge/discharge\n",
        "        #TODO normalize the amount of charge/discharge between -1 and 1 (important for training)\n",
        "        \n",
        "        self.action_space = Box(low=np.array([-2]), high=np.array([2]), shape=(1,), dtype=np.float32)\n",
        "        #self.action_space = Box(low=np.array([-1]), high=np.array([1]), shape=(1,), dtype=np.float32)   #integer\n",
        "        \n",
        "        #other solution: define a discrete action_space\n",
        "        #self.action_space = Discrete(3)#charge, doing nothing, discharge\n",
        "\n",
        "    #function that sampels days from the data\n",
        "    \"\"\"\n",
        "    def _observe_state(self, date):\n",
        "        observation_end=str(pd.to_datetime(self.date)+timedelta(hours = 24))\n",
        "        self.residual_load_forecast = self.residual_load[date:observation_end]\n",
        "\n",
        "        return np.concatenate((self.soc, self.residual_load_forecast),axis=None)\n",
        "    \"\"\"\n",
        "    def step (self, action):\n",
        "        #observation_end=str(pd.to_datetime(self.date)+timedelta(hours = 24))\n",
        "        #observation = np.concatenate((self.soc, self.residual_load[self.date:observation_end],),axis=None)\n",
        "        observation = np.concatenate((self.soc, self.residual_load[self.date]),axis=None)\n",
        "        \n",
        "        #observation = self._observe_state(self.date)\n",
        "        #get amount of charge/discharge\n",
        "        #calculate amount energy with restrictions of batery capacity\n",
        "        if action >=0:\n",
        "            #charge\n",
        "            if action + self.soc >= self.capacity: #batery is almost full\n",
        "                amount_energy = self.capacity - self.soc\n",
        "            else: #enough space in batery            \n",
        "                amount_energy = action\n",
        "        else:\n",
        "            #discharge\n",
        "            if action + self.soc <=0: #min restriction (batery soc cannot be negative)\n",
        "                amount_energy = -self.soc\n",
        "            else: #there is enough energy to discharge\n",
        "                amount_energy = action\n",
        "        \n",
        "        self.soc += amount_energy\n",
        "        \n",
        "        #calculate profit (sell on market) resp. calculate investment (buy on market)\n",
        "        #TODO right now we calculate with MWh but we need kWh (solution: divide price by 1000)\n",
        "        reward = -self.prices[self.date] * amount_energy\n",
        "        \n",
        "        # Reduce eps_length by 1 hour\n",
        "        self.eps_length -= 1\n",
        "        \n",
        "\n",
        "        #check if terminate\n",
        "        if self.eps_length <= 0:\n",
        "            done = True\n",
        "        else:\n",
        "            done = False\n",
        "            \n",
        "        #have little place holder for info as gym requires it\n",
        "        info={}\n",
        "        print('date:{} action:{} amount_energy: {} soc:{} price:{} reward:{} eps_length:{}'.format(self.date, action, amount_energy, self.soc, self.prices[self.date], reward, self.eps_length))\n",
        "        \n",
        "        #add one hour on date for the next step()\n",
        "        self.date=str(pd.to_datetime(self.date)+timedelta(hours = 1))\n",
        "\n",
        "        return observation, reward, done, info\n",
        "\n",
        "    def reset (self):\n",
        "        #reset profit to 0\n",
        "        self.reward = 0\n",
        "        self.soc = 0\n",
        "        self.eps_length = 24        \n",
        "        \n",
        "        return self.soc\n"
      ],
      "metadata": {
        "id": "T0VOXRiaPabO"
      },
      "execution_count": 11,
      "outputs": []
    },
    {
      "cell_type": "markdown",
      "source": [
        "#### get data "
      ],
      "metadata": {
        "id": "g2LcXJynQRGs"
      }
    },
    {
      "cell_type": "code",
      "source": [
        "from google.colab import files\n",
        "uploaded = files.upload()"
      ],
      "metadata": {
        "colab": {
          "base_uri": "https://localhost:8080/",
          "height": 73
        },
        "id": "2pHUaBgfQ9vP",
        "outputId": "055072e8-0cdb-49ad-855c-878324d5c785"
      },
      "execution_count": 14,
      "outputs": [
        {
          "output_type": "display_data",
          "data": {
            "text/plain": [
              "<IPython.core.display.HTML object>"
            ],
            "text/html": [
              "\n",
              "     <input type=\"file\" id=\"files-4a8370be-c532-4ded-b077-f5f0a48f3acb\" name=\"files[]\" multiple disabled\n",
              "        style=\"border:none\" />\n",
              "     <output id=\"result-4a8370be-c532-4ded-b077-f5f0a48f3acb\">\n",
              "      Upload widget is only available when the cell has been executed in the\n",
              "      current browser session. Please rerun this cell to enable.\n",
              "      </output>\n",
              "      <script>// Copyright 2017 Google LLC\n",
              "//\n",
              "// Licensed under the Apache License, Version 2.0 (the \"License\");\n",
              "// you may not use this file except in compliance with the License.\n",
              "// You may obtain a copy of the License at\n",
              "//\n",
              "//      http://www.apache.org/licenses/LICENSE-2.0\n",
              "//\n",
              "// Unless required by applicable law or agreed to in writing, software\n",
              "// distributed under the License is distributed on an \"AS IS\" BASIS,\n",
              "// WITHOUT WARRANTIES OR CONDITIONS OF ANY KIND, either express or implied.\n",
              "// See the License for the specific language governing permissions and\n",
              "// limitations under the License.\n",
              "\n",
              "/**\n",
              " * @fileoverview Helpers for google.colab Python module.\n",
              " */\n",
              "(function(scope) {\n",
              "function span(text, styleAttributes = {}) {\n",
              "  const element = document.createElement('span');\n",
              "  element.textContent = text;\n",
              "  for (const key of Object.keys(styleAttributes)) {\n",
              "    element.style[key] = styleAttributes[key];\n",
              "  }\n",
              "  return element;\n",
              "}\n",
              "\n",
              "// Max number of bytes which will be uploaded at a time.\n",
              "const MAX_PAYLOAD_SIZE = 100 * 1024;\n",
              "\n",
              "function _uploadFiles(inputId, outputId) {\n",
              "  const steps = uploadFilesStep(inputId, outputId);\n",
              "  const outputElement = document.getElementById(outputId);\n",
              "  // Cache steps on the outputElement to make it available for the next call\n",
              "  // to uploadFilesContinue from Python.\n",
              "  outputElement.steps = steps;\n",
              "\n",
              "  return _uploadFilesContinue(outputId);\n",
              "}\n",
              "\n",
              "// This is roughly an async generator (not supported in the browser yet),\n",
              "// where there are multiple asynchronous steps and the Python side is going\n",
              "// to poll for completion of each step.\n",
              "// This uses a Promise to block the python side on completion of each step,\n",
              "// then passes the result of the previous step as the input to the next step.\n",
              "function _uploadFilesContinue(outputId) {\n",
              "  const outputElement = document.getElementById(outputId);\n",
              "  const steps = outputElement.steps;\n",
              "\n",
              "  const next = steps.next(outputElement.lastPromiseValue);\n",
              "  return Promise.resolve(next.value.promise).then((value) => {\n",
              "    // Cache the last promise value to make it available to the next\n",
              "    // step of the generator.\n",
              "    outputElement.lastPromiseValue = value;\n",
              "    return next.value.response;\n",
              "  });\n",
              "}\n",
              "\n",
              "/**\n",
              " * Generator function which is called between each async step of the upload\n",
              " * process.\n",
              " * @param {string} inputId Element ID of the input file picker element.\n",
              " * @param {string} outputId Element ID of the output display.\n",
              " * @return {!Iterable<!Object>} Iterable of next steps.\n",
              " */\n",
              "function* uploadFilesStep(inputId, outputId) {\n",
              "  const inputElement = document.getElementById(inputId);\n",
              "  inputElement.disabled = false;\n",
              "\n",
              "  const outputElement = document.getElementById(outputId);\n",
              "  outputElement.innerHTML = '';\n",
              "\n",
              "  const pickedPromise = new Promise((resolve) => {\n",
              "    inputElement.addEventListener('change', (e) => {\n",
              "      resolve(e.target.files);\n",
              "    });\n",
              "  });\n",
              "\n",
              "  const cancel = document.createElement('button');\n",
              "  inputElement.parentElement.appendChild(cancel);\n",
              "  cancel.textContent = 'Cancel upload';\n",
              "  const cancelPromise = new Promise((resolve) => {\n",
              "    cancel.onclick = () => {\n",
              "      resolve(null);\n",
              "    };\n",
              "  });\n",
              "\n",
              "  // Wait for the user to pick the files.\n",
              "  const files = yield {\n",
              "    promise: Promise.race([pickedPromise, cancelPromise]),\n",
              "    response: {\n",
              "      action: 'starting',\n",
              "    }\n",
              "  };\n",
              "\n",
              "  cancel.remove();\n",
              "\n",
              "  // Disable the input element since further picks are not allowed.\n",
              "  inputElement.disabled = true;\n",
              "\n",
              "  if (!files) {\n",
              "    return {\n",
              "      response: {\n",
              "        action: 'complete',\n",
              "      }\n",
              "    };\n",
              "  }\n",
              "\n",
              "  for (const file of files) {\n",
              "    const li = document.createElement('li');\n",
              "    li.append(span(file.name, {fontWeight: 'bold'}));\n",
              "    li.append(span(\n",
              "        `(${file.type || 'n/a'}) - ${file.size} bytes, ` +\n",
              "        `last modified: ${\n",
              "            file.lastModifiedDate ? file.lastModifiedDate.toLocaleDateString() :\n",
              "                                    'n/a'} - `));\n",
              "    const percent = span('0% done');\n",
              "    li.appendChild(percent);\n",
              "\n",
              "    outputElement.appendChild(li);\n",
              "\n",
              "    const fileDataPromise = new Promise((resolve) => {\n",
              "      const reader = new FileReader();\n",
              "      reader.onload = (e) => {\n",
              "        resolve(e.target.result);\n",
              "      };\n",
              "      reader.readAsArrayBuffer(file);\n",
              "    });\n",
              "    // Wait for the data to be ready.\n",
              "    let fileData = yield {\n",
              "      promise: fileDataPromise,\n",
              "      response: {\n",
              "        action: 'continue',\n",
              "      }\n",
              "    };\n",
              "\n",
              "    // Use a chunked sending to avoid message size limits. See b/62115660.\n",
              "    let position = 0;\n",
              "    do {\n",
              "      const length = Math.min(fileData.byteLength - position, MAX_PAYLOAD_SIZE);\n",
              "      const chunk = new Uint8Array(fileData, position, length);\n",
              "      position += length;\n",
              "\n",
              "      const base64 = btoa(String.fromCharCode.apply(null, chunk));\n",
              "      yield {\n",
              "        response: {\n",
              "          action: 'append',\n",
              "          file: file.name,\n",
              "          data: base64,\n",
              "        },\n",
              "      };\n",
              "\n",
              "      let percentDone = fileData.byteLength === 0 ?\n",
              "          100 :\n",
              "          Math.round((position / fileData.byteLength) * 100);\n",
              "      percent.textContent = `${percentDone}% done`;\n",
              "\n",
              "    } while (position < fileData.byteLength);\n",
              "  }\n",
              "\n",
              "  // All done.\n",
              "  yield {\n",
              "    response: {\n",
              "      action: 'complete',\n",
              "    }\n",
              "  };\n",
              "}\n",
              "\n",
              "scope.google = scope.google || {};\n",
              "scope.google.colab = scope.google.colab || {};\n",
              "scope.google.colab._files = {\n",
              "  _uploadFiles,\n",
              "  _uploadFilesContinue,\n",
              "};\n",
              "})(self);\n",
              "</script> "
            ]
          },
          "metadata": {}
        },
        {
          "output_type": "stream",
          "name": "stdout",
          "text": [
            "Saving data.csv to data.csv\n"
          ]
        }
      ]
    },
    {
      "cell_type": "code",
      "source": [
        "import io\n",
        "data = pd.read_csv(io.BytesIO(uploaded['data.csv']))"
      ],
      "metadata": {
        "id": "mvAzV5tGRjB-"
      },
      "execution_count": 16,
      "outputs": []
    },
    {
      "cell_type": "code",
      "source": [
        "data.head(3)"
      ],
      "metadata": {
        "colab": {
          "base_uri": "https://localhost:8080/",
          "height": 198
        },
        "id": "Gv2i94_GRpek",
        "outputId": "756ecb62-74b0-424f-99e1-2e485a3d4d5d"
      },
      "execution_count": 18,
      "outputs": [
        {
          "output_type": "stream",
          "name": "stderr",
          "text": [
            "/usr/local/lib/python3.10/dist-packages/ipykernel/ipkernel.py:283: DeprecationWarning: `should_run_async` will not call `transform_cell` automatically in the future. Please pass the result to `transformed_cell` argument and any exception that happen during thetransform in `preprocessing_exc_tuple` in IPython 7.17 and above.\n",
            "  and should_run_async(code)\n"
          ]
        },
        {
          "output_type": "execute_result",
          "data": {
            "text/plain": [
              "              local_DateTime  Forecasted Solar [MWh]  \\\n",
              "0  2019-06-01 00:00:00+00:00                     0.0   \n",
              "1  2019-06-01 01:00:00+00:00                     0.0   \n",
              "2  2019-06-01 02:00:00+00:00                     0.0   \n",
              "\n",
              "   Forecasted Wind Offshore [MWh]  Forecasted Wind Onshore [MWh]  \\\n",
              "0                          2730.0                         2056.0   \n",
              "1                          2887.0                         2126.0   \n",
              "2                          3097.0                         2549.0   \n",
              "\n",
              "   Demand in MWh  total vre in MWh  residual load in MWh  prices in €/MWh  \n",
              "0        42405.0            4786.0               37619.0            33.63  \n",
              "1        40510.0            5013.0               35497.0            31.03  \n",
              "2        38905.0            5646.0               33259.0            28.23  "
            ],
            "text/html": [
              "\n",
              "  <div id=\"df-c300354f-cbc7-4ee6-8b85-6d31f2df9208\">\n",
              "    <div class=\"colab-df-container\">\n",
              "      <div>\n",
              "<style scoped>\n",
              "    .dataframe tbody tr th:only-of-type {\n",
              "        vertical-align: middle;\n",
              "    }\n",
              "\n",
              "    .dataframe tbody tr th {\n",
              "        vertical-align: top;\n",
              "    }\n",
              "\n",
              "    .dataframe thead th {\n",
              "        text-align: right;\n",
              "    }\n",
              "</style>\n",
              "<table border=\"1\" class=\"dataframe\">\n",
              "  <thead>\n",
              "    <tr style=\"text-align: right;\">\n",
              "      <th></th>\n",
              "      <th>local_DateTime</th>\n",
              "      <th>Forecasted Solar [MWh]</th>\n",
              "      <th>Forecasted Wind Offshore [MWh]</th>\n",
              "      <th>Forecasted Wind Onshore [MWh]</th>\n",
              "      <th>Demand in MWh</th>\n",
              "      <th>total vre in MWh</th>\n",
              "      <th>residual load in MWh</th>\n",
              "      <th>prices in €/MWh</th>\n",
              "    </tr>\n",
              "  </thead>\n",
              "  <tbody>\n",
              "    <tr>\n",
              "      <th>0</th>\n",
              "      <td>2019-06-01 00:00:00+00:00</td>\n",
              "      <td>0.0</td>\n",
              "      <td>2730.0</td>\n",
              "      <td>2056.0</td>\n",
              "      <td>42405.0</td>\n",
              "      <td>4786.0</td>\n",
              "      <td>37619.0</td>\n",
              "      <td>33.63</td>\n",
              "    </tr>\n",
              "    <tr>\n",
              "      <th>1</th>\n",
              "      <td>2019-06-01 01:00:00+00:00</td>\n",
              "      <td>0.0</td>\n",
              "      <td>2887.0</td>\n",
              "      <td>2126.0</td>\n",
              "      <td>40510.0</td>\n",
              "      <td>5013.0</td>\n",
              "      <td>35497.0</td>\n",
              "      <td>31.03</td>\n",
              "    </tr>\n",
              "    <tr>\n",
              "      <th>2</th>\n",
              "      <td>2019-06-01 02:00:00+00:00</td>\n",
              "      <td>0.0</td>\n",
              "      <td>3097.0</td>\n",
              "      <td>2549.0</td>\n",
              "      <td>38905.0</td>\n",
              "      <td>5646.0</td>\n",
              "      <td>33259.0</td>\n",
              "      <td>28.23</td>\n",
              "    </tr>\n",
              "  </tbody>\n",
              "</table>\n",
              "</div>\n",
              "      <button class=\"colab-df-convert\" onclick=\"convertToInteractive('df-c300354f-cbc7-4ee6-8b85-6d31f2df9208')\"\n",
              "              title=\"Convert this dataframe to an interactive table.\"\n",
              "              style=\"display:none;\">\n",
              "        \n",
              "  <svg xmlns=\"http://www.w3.org/2000/svg\" height=\"24px\"viewBox=\"0 0 24 24\"\n",
              "       width=\"24px\">\n",
              "    <path d=\"M0 0h24v24H0V0z\" fill=\"none\"/>\n",
              "    <path d=\"M18.56 5.44l.94 2.06.94-2.06 2.06-.94-2.06-.94-.94-2.06-.94 2.06-2.06.94zm-11 1L8.5 8.5l.94-2.06 2.06-.94-2.06-.94L8.5 2.5l-.94 2.06-2.06.94zm10 10l.94 2.06.94-2.06 2.06-.94-2.06-.94-.94-2.06-.94 2.06-2.06.94z\"/><path d=\"M17.41 7.96l-1.37-1.37c-.4-.4-.92-.59-1.43-.59-.52 0-1.04.2-1.43.59L10.3 9.45l-7.72 7.72c-.78.78-.78 2.05 0 2.83L4 21.41c.39.39.9.59 1.41.59.51 0 1.02-.2 1.41-.59l7.78-7.78 2.81-2.81c.8-.78.8-2.07 0-2.86zM5.41 20L4 18.59l7.72-7.72 1.47 1.35L5.41 20z\"/>\n",
              "  </svg>\n",
              "      </button>\n",
              "      \n",
              "  <style>\n",
              "    .colab-df-container {\n",
              "      display:flex;\n",
              "      flex-wrap:wrap;\n",
              "      gap: 12px;\n",
              "    }\n",
              "\n",
              "    .colab-df-convert {\n",
              "      background-color: #E8F0FE;\n",
              "      border: none;\n",
              "      border-radius: 50%;\n",
              "      cursor: pointer;\n",
              "      display: none;\n",
              "      fill: #1967D2;\n",
              "      height: 32px;\n",
              "      padding: 0 0 0 0;\n",
              "      width: 32px;\n",
              "    }\n",
              "\n",
              "    .colab-df-convert:hover {\n",
              "      background-color: #E2EBFA;\n",
              "      box-shadow: 0px 1px 2px rgba(60, 64, 67, 0.3), 0px 1px 3px 1px rgba(60, 64, 67, 0.15);\n",
              "      fill: #174EA6;\n",
              "    }\n",
              "\n",
              "    [theme=dark] .colab-df-convert {\n",
              "      background-color: #3B4455;\n",
              "      fill: #D2E3FC;\n",
              "    }\n",
              "\n",
              "    [theme=dark] .colab-df-convert:hover {\n",
              "      background-color: #434B5C;\n",
              "      box-shadow: 0px 1px 3px 1px rgba(0, 0, 0, 0.15);\n",
              "      filter: drop-shadow(0px 1px 2px rgba(0, 0, 0, 0.3));\n",
              "      fill: #FFFFFF;\n",
              "    }\n",
              "  </style>\n",
              "\n",
              "      <script>\n",
              "        const buttonEl =\n",
              "          document.querySelector('#df-c300354f-cbc7-4ee6-8b85-6d31f2df9208 button.colab-df-convert');\n",
              "        buttonEl.style.display =\n",
              "          google.colab.kernel.accessAllowed ? 'block' : 'none';\n",
              "\n",
              "        async function convertToInteractive(key) {\n",
              "          const element = document.querySelector('#df-c300354f-cbc7-4ee6-8b85-6d31f2df9208');\n",
              "          const dataTable =\n",
              "            await google.colab.kernel.invokeFunction('convertToInteractive',\n",
              "                                                     [key], {});\n",
              "          if (!dataTable) return;\n",
              "\n",
              "          const docLinkHtml = 'Like what you see? Visit the ' +\n",
              "            '<a target=\"_blank\" href=https://colab.research.google.com/notebooks/data_table.ipynb>data table notebook</a>'\n",
              "            + ' to learn more about interactive tables.';\n",
              "          element.innerHTML = '';\n",
              "          dataTable['output_type'] = 'display_data';\n",
              "          await google.colab.output.renderOutput(dataTable, element);\n",
              "          const docLink = document.createElement('div');\n",
              "          docLink.innerHTML = docLinkHtml;\n",
              "          element.appendChild(docLink);\n",
              "        }\n",
              "      </script>\n",
              "    </div>\n",
              "  </div>\n",
              "  "
            ]
          },
          "metadata": {},
          "execution_count": 18
        }
      ]
    },
    {
      "cell_type": "code",
      "source": [
        "#data= pd.read_csv('../data.csv',delimiter=',')\n",
        "data.set_index('local_DateTime', drop=True, append=False, inplace=True, verify_integrity=True)\n",
        "residual_load = data['residual load in MWh']\n",
        "residual_load[1]\n",
        "prices = data['prices in €/MWh']\n",
        "time_list_hours = pd.to_datetime(data.index).tolist()\n",
        "time_list_hours = (data.index).tolist()"
      ],
      "metadata": {
        "id": "sUHFuPrxQTRj"
      },
      "execution_count": 19,
      "outputs": []
    },
    {
      "cell_type": "markdown",
      "source": [
        "### Test Environment"
      ],
      "metadata": {
        "id": "PZfNxc_qPruw"
      }
    },
    {
      "cell_type": "code",
      "source": [
        "env = BatteryEnvironment(time_list_hours = time_list_hours, prices = prices, residual_load = residual_load, capacity=200, power= 10)\n",
        "\n",
        "#random action\n",
        "env.action_space.sample()\n",
        "#random observation\n",
        "env.observation_space.sample()\n",
        "\n",
        "days = 2\n",
        "for days in range(0, days):\n",
        "    env.reset()\n",
        "    print('Tag: ',days)\n",
        "    profit = 0\n",
        "    done = False\n",
        "    \n",
        "    while not done:\n",
        "        action = env.action_space.sample()\n",
        "        observation, reward, done, _ = env.step(action)\n",
        "        #print('SOC {} reward: {}'.format(soc, reward))\n",
        "        #print(observation)\n",
        "        profit += reward\n",
        "        \n",
        "    print('Tag:{} Observation:{} Score:{}'.format(days, observation, profit))\n",
        "    print('Tag:{} SOC ende:{}MWh Score:{}'.format(days, observation[0], profit))\n"
      ],
      "metadata": {
        "colab": {
          "base_uri": "https://localhost:8080/"
        },
        "id": "RoM7g6OXPpWY",
        "outputId": "22b6379e-d315-4d11-adf2-350ab990b162"
      },
      "execution_count": 20,
      "outputs": [
        {
          "output_type": "stream",
          "name": "stdout",
          "text": [
            "Tag:  0\n",
            "date:2019-06-01 00:00:00+00:00 action:[0.40088177] amount_energy: [0.40088177] soc:[0.40088177] price:33.63 reward:[-13.481654] eps_length:23\n",
            "date:2019-06-01 01:00:00+00:00 action:[-1.0694563] amount_energy: [-0.40088177] soc:[0.] price:31.03 reward:[12.439362] eps_length:22\n",
            "date:2019-06-01 02:00:00+00:00 action:[-1.4790144] amount_energy: [-0.] soc:[0.] price:28.23 reward:[0.] eps_length:21\n",
            "date:2019-06-01 03:00:00+00:00 action:[0.2594964] amount_energy: [0.2594964] soc:[0.2594964] price:27.62 reward:[-7.1672907] eps_length:20\n",
            "date:2019-06-01 04:00:00+00:00 action:[0.16199553] amount_energy: [0.16199553] soc:[0.42149192] price:25.53 reward:[-4.135746] eps_length:19\n",
            "date:2019-06-01 05:00:00+00:00 action:[-0.5057514] amount_energy: [-0.42149192] soc:[0.] price:23.14 reward:[9.753323] eps_length:18\n",
            "date:2019-06-01 06:00:00+00:00 action:[0.16838275] amount_energy: [0.16838275] soc:[0.16838275] price:25.8 reward:[-4.344275] eps_length:17\n",
            "date:2019-06-01 07:00:00+00:00 action:[-1.2843484] amount_energy: [-0.16838275] soc:[0.] price:27.55 reward:[4.6389446] eps_length:16\n",
            "date:2019-06-01 08:00:00+00:00 action:[1.1340781] amount_energy: [1.1340781] soc:[1.1340781] price:29.61 reward:[-33.580055] eps_length:15\n",
            "date:2019-06-01 09:00:00+00:00 action:[1.4470028] amount_energy: [1.4470028] soc:[2.581081] price:28.68 reward:[-41.50004] eps_length:14\n",
            "date:2019-06-01 10:00:00+00:00 action:[-0.7744725] amount_energy: [-0.7744725] soc:[1.8066084] price:26.42 reward:[20.461563] eps_length:13\n",
            "date:2019-06-01 11:00:00+00:00 action:[0.20918757] amount_energy: [0.20918757] soc:[2.015796] price:25.28 reward:[-5.288262] eps_length:12\n",
            "date:2019-06-01 12:00:00+00:00 action:[-0.9244797] amount_energy: [-0.9244797] soc:[1.0913162] price:26.69 reward:[24.674364] eps_length:11\n",
            "date:2019-06-01 13:00:00+00:00 action:[1.8045088] amount_energy: [1.8045088] soc:[2.895825] price:22.4 reward:[-40.420998] eps_length:10\n",
            "date:2019-06-01 14:00:00+00:00 action:[1.3207233] amount_energy: [1.3207233] soc:[4.216548] price:18.33 reward:[-24.208858] eps_length:9\n",
            "date:2019-06-01 15:00:00+00:00 action:[-0.85127527] amount_energy: [-0.85127527] soc:[3.3652728] price:24.71 reward:[21.035011] eps_length:8\n",
            "date:2019-06-01 16:00:00+00:00 action:[0.28218397] amount_energy: [0.28218397] soc:[3.6474566] price:27.57 reward:[-7.7798123] eps_length:7\n",
            "date:2019-06-01 17:00:00+00:00 action:[-0.04424403] amount_energy: [-0.04424403] soc:[3.6032126] price:29.09 reward:[1.2870588] eps_length:6\n",
            "date:2019-06-01 18:00:00+00:00 action:[-1.7696446] amount_energy: [-1.7696446] soc:[1.833568] price:36.95 reward:[65.38837] eps_length:5\n",
            "date:2019-06-01 19:00:00+00:00 action:[-1.9260327] amount_energy: [-1.833568] soc:[0.] price:40.15 reward:[73.61776] eps_length:4\n",
            "date:2019-06-01 20:00:00+00:00 action:[-1.5966104] amount_energy: [-0.] soc:[0.] price:41.8 reward:[0.] eps_length:3\n",
            "date:2019-06-01 21:00:00+00:00 action:[1.0630351] amount_energy: [1.0630351] soc:[1.0630351] price:40.94 reward:[-43.520657] eps_length:2\n",
            "date:2019-06-01 22:00:00+00:00 action:[-0.9203259] amount_energy: [-0.9203259] soc:[0.14270926] price:40.36 reward:[37.144352] eps_length:1\n",
            "date:2019-06-01 23:00:00+00:00 action:[-0.932619] amount_energy: [-0.14270926] soc:[0.] price:37.6 reward:[5.3658676] eps_length:0\n",
            "Tag:0 Observation:[1.4270926e-01 3.9472000e+04] Score:[50.37832]\n",
            "Tag:0 SOC ende:0.14270925521850586MWh Score:[50.37832]\n",
            "Tag:  1\n",
            "date:2019-06-02 00:00:00+00:00 action:[0.7730903] amount_energy: [0.7730903] soc:[0.7730903] price:28.54 reward:[-22.063997] eps_length:23\n",
            "date:2019-06-02 01:00:00+00:00 action:[0.79040986] amount_energy: [0.79040986] soc:[1.5635002] price:29.0 reward:[-22.921886] eps_length:22\n",
            "date:2019-06-02 02:00:00+00:00 action:[0.13909943] amount_energy: [0.13909943] soc:[1.7025996] price:29.11 reward:[-4.049185] eps_length:21\n",
            "date:2019-06-02 03:00:00+00:00 action:[-1.0735707] amount_energy: [-1.0735707] soc:[0.6290289] price:28.03 reward:[30.092188] eps_length:20\n",
            "date:2019-06-02 04:00:00+00:00 action:[-1.1911179] amount_energy: [-0.6290289] soc:[0.] price:27.79 reward:[17.480715] eps_length:19\n",
            "date:2019-06-02 05:00:00+00:00 action:[-0.52644354] amount_energy: [-0.] soc:[0.] price:25.2 reward:[0.] eps_length:18\n",
            "date:2019-06-02 06:00:00+00:00 action:[-0.34906468] amount_energy: [-0.] soc:[0.] price:24.79 reward:[0.] eps_length:17\n",
            "date:2019-06-02 07:00:00+00:00 action:[-1.6824554] amount_energy: [-0.] soc:[0.] price:23.31 reward:[0.] eps_length:16\n",
            "date:2019-06-02 08:00:00+00:00 action:[-1.6974257] amount_energy: [-0.] soc:[0.] price:25.22 reward:[0.] eps_length:15\n",
            "date:2019-06-02 09:00:00+00:00 action:[-1.9581487] amount_energy: [-0.] soc:[0.] price:19.38 reward:[0.] eps_length:14\n",
            "date:2019-06-02 10:00:00+00:00 action:[1.6135448] amount_energy: [1.6135448] soc:[1.6135448] price:11.76 reward:[-18.975288] eps_length:13\n",
            "date:2019-06-02 11:00:00+00:00 action:[1.4378211] amount_energy: [1.4378211] soc:[3.0513659] price:11.9 reward:[-17.110071] eps_length:12\n",
            "date:2019-06-02 12:00:00+00:00 action:[-1.954744] amount_energy: [-1.954744] soc:[1.0966219] price:8.91 reward:[17.416769] eps_length:11\n",
            "date:2019-06-02 13:00:00+00:00 action:[-0.04122992] amount_energy: [-0.04122992] soc:[1.0553919] price:3.5 reward:[0.14430472] eps_length:10\n",
            "date:2019-06-02 14:00:00+00:00 action:[-0.8439169] amount_energy: [-0.8439169] soc:[0.21147501] price:-9.02 reward:[-7.6121306] eps_length:9\n",
            "date:2019-06-02 15:00:00+00:00 action:[0.6640015] amount_energy: [0.6640015] soc:[0.87547654] price:-0.48 reward:[0.31872073] eps_length:8\n",
            "date:2019-06-02 16:00:00+00:00 action:[1.881681] amount_energy: [1.881681] soc:[2.7571576] price:3.5 reward:[-6.585883] eps_length:7\n",
            "date:2019-06-02 17:00:00+00:00 action:[1.7494898] amount_energy: [1.7494898] soc:[4.506647] price:23.49 reward:[-41.095516] eps_length:6\n",
            "date:2019-06-02 18:00:00+00:00 action:[1.6719528] amount_energy: [1.6719528] soc:[6.1786] price:31.24 reward:[-52.231808] eps_length:5\n",
            "date:2019-06-02 19:00:00+00:00 action:[-1.4250145] amount_energy: [-1.4250145] soc:[4.7535853] price:37.41 reward:[53.30979] eps_length:4\n",
            "date:2019-06-02 20:00:00+00:00 action:[1.6271822] amount_energy: [1.6271822] soc:[6.380768] price:38.13 reward:[-62.04446] eps_length:3\n",
            "date:2019-06-02 21:00:00+00:00 action:[1.9130578] amount_energy: [1.9130578] soc:[8.293825] price:37.14 reward:[-71.050964] eps_length:2\n",
            "date:2019-06-02 22:00:00+00:00 action:[0.08470636] amount_energy: [0.08470636] soc:[8.378531] price:37.12 reward:[-3.1443] eps_length:1\n",
            "date:2019-06-02 23:00:00+00:00 action:[0.17989247] amount_energy: [0.17989247] soc:[8.558424] price:29.85 reward:[-5.36979] eps_length:0\n",
            "Tag:1 Observation:[8.378531e+00 2.412700e+04] Score:[-215.49281]\n",
            "Tag:1 SOC ende:8.378531455993652MWh Score:[-215.49281]\n"
          ]
        },
        {
          "output_type": "stream",
          "name": "stderr",
          "text": [
            "/usr/local/lib/python3.10/dist-packages/gym/spaces/box.py:128: UserWarning: \u001b[33mWARN: Box bound precision lowered by casting to float32\u001b[0m\n",
            "  logger.warn(f\"Box bound precision lowered by casting to {self.dtype}\")\n"
          ]
        }
      ]
    },
    {
      "cell_type": "code",
      "source": [],
      "metadata": {
        "id": "Gz0w-TUjPwT1"
      },
      "execution_count": null,
      "outputs": []
    }
  ]
}